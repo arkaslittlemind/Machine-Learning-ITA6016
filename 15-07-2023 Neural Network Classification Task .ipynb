{
  "nbformat": 4,
  "nbformat_minor": 0,
  "metadata": {
    "colab": {
      "provenance": [],
      "authorship_tag": "ABX9TyNBZrRJqObc3bIxcTuyW/eY",
      "include_colab_link": true
    },
    "kernelspec": {
      "name": "python3",
      "display_name": "Python 3"
    },
    "language_info": {
      "name": "python"
    }
  },
  "cells": [
    {
      "cell_type": "markdown",
      "metadata": {
        "id": "view-in-github",
        "colab_type": "text"
      },
      "source": [
        "<a href=\"https://colab.research.google.com/github/arkaslittlemind/Machine-Learning-ITA6016/blob/main/Neural%20Network%20Classification%20Task%2015-07-2023.ipynb\" target=\"_parent\"><img src=\"https://colab.research.google.com/assets/colab-badge.svg\" alt=\"Open In Colab\"/></a>"
      ]
    },
    {
      "cell_type": "markdown",
      "source": [
        "**Import dependent libraries**"
      ],
      "metadata": {
        "id": "VdYvlTZDCyYk"
      }
    },
    {
      "cell_type": "code",
      "source": [
        "import pandas as pd\n",
        "import numpy as np\n",
        "import os\n",
        "# Plotting libraries\n",
        "import matplotlib.pyplot as plt\n",
        "# SKLearn libraries\n",
        "from sklearn.preprocessing import LabelEncoder\n",
        "from sklearn.model_selection import train_test_split\n",
        "# Tensorflow libraries\n",
        "import tensorflow as tf\n",
        "from tensorflow import keras\n",
        "from tensorflow.keras.models import Sequential"
      ],
      "metadata": {
        "id": "KcN_xrLMC4fC"
      },
      "execution_count": 17,
      "outputs": []
    },
    {
      "cell_type": "code",
      "source": [
        "iris_data = pd.read_csv(\"Iris.csv\")"
      ],
      "metadata": {
        "id": "mKU6x1pZDTch"
      },
      "execution_count": 18,
      "outputs": []
    },
    {
      "cell_type": "code",
      "source": [
        "iris_data.info()\n",
        "print(\"==\"*40)\n",
        "iris_data.head(10)"
      ],
      "metadata": {
        "colab": {
          "base_uri": "https://localhost:8080/",
          "height": 656
        },
        "id": "bn_IInWSEA7Y",
        "outputId": "01299844-11ce-4bb2-dffc-bf8bfa2ef7c3"
      },
      "execution_count": 19,
      "outputs": [
        {
          "output_type": "stream",
          "name": "stdout",
          "text": [
            "<class 'pandas.core.frame.DataFrame'>\n",
            "RangeIndex: 150 entries, 0 to 149\n",
            "Data columns (total 6 columns):\n",
            " #   Column         Non-Null Count  Dtype  \n",
            "---  ------         --------------  -----  \n",
            " 0   Id             150 non-null    int64  \n",
            " 1   SepalLengthCm  150 non-null    float64\n",
            " 2   SepalWidthCm   150 non-null    float64\n",
            " 3   PetalLengthCm  150 non-null    float64\n",
            " 4   PetalWidthCm   150 non-null    float64\n",
            " 5   Species        150 non-null    object \n",
            "dtypes: float64(4), int64(1), object(1)\n",
            "memory usage: 7.2+ KB\n",
            "================================================================================\n"
          ]
        },
        {
          "output_type": "execute_result",
          "data": {
            "text/plain": [
              "   Id  SepalLengthCm  SepalWidthCm  PetalLengthCm  PetalWidthCm      Species\n",
              "0   1            5.1           3.5            1.4           0.2  Iris-setosa\n",
              "1   2            4.9           3.0            1.4           0.2  Iris-setosa\n",
              "2   3            4.7           3.2            1.3           0.2  Iris-setosa\n",
              "3   4            4.6           3.1            1.5           0.2  Iris-setosa\n",
              "4   5            5.0           3.6            1.4           0.2  Iris-setosa\n",
              "5   6            5.4           3.9            1.7           0.4  Iris-setosa\n",
              "6   7            4.6           3.4            1.4           0.3  Iris-setosa\n",
              "7   8            5.0           3.4            1.5           0.2  Iris-setosa\n",
              "8   9            4.4           2.9            1.4           0.2  Iris-setosa\n",
              "9  10            4.9           3.1            1.5           0.1  Iris-setosa"
            ],
            "text/html": [
              "\n",
              "\n",
              "  <div id=\"df-54a14b0e-ee55-4828-8257-5efd0f98eb65\">\n",
              "    <div class=\"colab-df-container\">\n",
              "      <div>\n",
              "<style scoped>\n",
              "    .dataframe tbody tr th:only-of-type {\n",
              "        vertical-align: middle;\n",
              "    }\n",
              "\n",
              "    .dataframe tbody tr th {\n",
              "        vertical-align: top;\n",
              "    }\n",
              "\n",
              "    .dataframe thead th {\n",
              "        text-align: right;\n",
              "    }\n",
              "</style>\n",
              "<table border=\"1\" class=\"dataframe\">\n",
              "  <thead>\n",
              "    <tr style=\"text-align: right;\">\n",
              "      <th></th>\n",
              "      <th>Id</th>\n",
              "      <th>SepalLengthCm</th>\n",
              "      <th>SepalWidthCm</th>\n",
              "      <th>PetalLengthCm</th>\n",
              "      <th>PetalWidthCm</th>\n",
              "      <th>Species</th>\n",
              "    </tr>\n",
              "  </thead>\n",
              "  <tbody>\n",
              "    <tr>\n",
              "      <th>0</th>\n",
              "      <td>1</td>\n",
              "      <td>5.1</td>\n",
              "      <td>3.5</td>\n",
              "      <td>1.4</td>\n",
              "      <td>0.2</td>\n",
              "      <td>Iris-setosa</td>\n",
              "    </tr>\n",
              "    <tr>\n",
              "      <th>1</th>\n",
              "      <td>2</td>\n",
              "      <td>4.9</td>\n",
              "      <td>3.0</td>\n",
              "      <td>1.4</td>\n",
              "      <td>0.2</td>\n",
              "      <td>Iris-setosa</td>\n",
              "    </tr>\n",
              "    <tr>\n",
              "      <th>2</th>\n",
              "      <td>3</td>\n",
              "      <td>4.7</td>\n",
              "      <td>3.2</td>\n",
              "      <td>1.3</td>\n",
              "      <td>0.2</td>\n",
              "      <td>Iris-setosa</td>\n",
              "    </tr>\n",
              "    <tr>\n",
              "      <th>3</th>\n",
              "      <td>4</td>\n",
              "      <td>4.6</td>\n",
              "      <td>3.1</td>\n",
              "      <td>1.5</td>\n",
              "      <td>0.2</td>\n",
              "      <td>Iris-setosa</td>\n",
              "    </tr>\n",
              "    <tr>\n",
              "      <th>4</th>\n",
              "      <td>5</td>\n",
              "      <td>5.0</td>\n",
              "      <td>3.6</td>\n",
              "      <td>1.4</td>\n",
              "      <td>0.2</td>\n",
              "      <td>Iris-setosa</td>\n",
              "    </tr>\n",
              "    <tr>\n",
              "      <th>5</th>\n",
              "      <td>6</td>\n",
              "      <td>5.4</td>\n",
              "      <td>3.9</td>\n",
              "      <td>1.7</td>\n",
              "      <td>0.4</td>\n",
              "      <td>Iris-setosa</td>\n",
              "    </tr>\n",
              "    <tr>\n",
              "      <th>6</th>\n",
              "      <td>7</td>\n",
              "      <td>4.6</td>\n",
              "      <td>3.4</td>\n",
              "      <td>1.4</td>\n",
              "      <td>0.3</td>\n",
              "      <td>Iris-setosa</td>\n",
              "    </tr>\n",
              "    <tr>\n",
              "      <th>7</th>\n",
              "      <td>8</td>\n",
              "      <td>5.0</td>\n",
              "      <td>3.4</td>\n",
              "      <td>1.5</td>\n",
              "      <td>0.2</td>\n",
              "      <td>Iris-setosa</td>\n",
              "    </tr>\n",
              "    <tr>\n",
              "      <th>8</th>\n",
              "      <td>9</td>\n",
              "      <td>4.4</td>\n",
              "      <td>2.9</td>\n",
              "      <td>1.4</td>\n",
              "      <td>0.2</td>\n",
              "      <td>Iris-setosa</td>\n",
              "    </tr>\n",
              "    <tr>\n",
              "      <th>9</th>\n",
              "      <td>10</td>\n",
              "      <td>4.9</td>\n",
              "      <td>3.1</td>\n",
              "      <td>1.5</td>\n",
              "      <td>0.1</td>\n",
              "      <td>Iris-setosa</td>\n",
              "    </tr>\n",
              "  </tbody>\n",
              "</table>\n",
              "</div>\n",
              "      <button class=\"colab-df-convert\" onclick=\"convertToInteractive('df-54a14b0e-ee55-4828-8257-5efd0f98eb65')\"\n",
              "              title=\"Convert this dataframe to an interactive table.\"\n",
              "              style=\"display:none;\">\n",
              "\n",
              "  <svg xmlns=\"http://www.w3.org/2000/svg\" height=\"24px\"viewBox=\"0 0 24 24\"\n",
              "       width=\"24px\">\n",
              "    <path d=\"M0 0h24v24H0V0z\" fill=\"none\"/>\n",
              "    <path d=\"M18.56 5.44l.94 2.06.94-2.06 2.06-.94-2.06-.94-.94-2.06-.94 2.06-2.06.94zm-11 1L8.5 8.5l.94-2.06 2.06-.94-2.06-.94L8.5 2.5l-.94 2.06-2.06.94zm10 10l.94 2.06.94-2.06 2.06-.94-2.06-.94-.94-2.06-.94 2.06-2.06.94z\"/><path d=\"M17.41 7.96l-1.37-1.37c-.4-.4-.92-.59-1.43-.59-.52 0-1.04.2-1.43.59L10.3 9.45l-7.72 7.72c-.78.78-.78 2.05 0 2.83L4 21.41c.39.39.9.59 1.41.59.51 0 1.02-.2 1.41-.59l7.78-7.78 2.81-2.81c.8-.78.8-2.07 0-2.86zM5.41 20L4 18.59l7.72-7.72 1.47 1.35L5.41 20z\"/>\n",
              "  </svg>\n",
              "      </button>\n",
              "\n",
              "\n",
              "\n",
              "    <div id=\"df-0db22fe3-2b11-4d9a-894f-7802e617da01\">\n",
              "      <button class=\"colab-df-quickchart\" onclick=\"quickchart('df-0db22fe3-2b11-4d9a-894f-7802e617da01')\"\n",
              "              title=\"Suggest charts.\"\n",
              "              style=\"display:none;\">\n",
              "\n",
              "<svg xmlns=\"http://www.w3.org/2000/svg\" height=\"24px\"viewBox=\"0 0 24 24\"\n",
              "     width=\"24px\">\n",
              "    <g>\n",
              "        <path d=\"M19 3H5c-1.1 0-2 .9-2 2v14c0 1.1.9 2 2 2h14c1.1 0 2-.9 2-2V5c0-1.1-.9-2-2-2zM9 17H7v-7h2v7zm4 0h-2V7h2v10zm4 0h-2v-4h2v4z\"/>\n",
              "    </g>\n",
              "</svg>\n",
              "      </button>\n",
              "    </div>\n",
              "\n",
              "<style>\n",
              "  .colab-df-quickchart {\n",
              "    background-color: #E8F0FE;\n",
              "    border: none;\n",
              "    border-radius: 50%;\n",
              "    cursor: pointer;\n",
              "    display: none;\n",
              "    fill: #1967D2;\n",
              "    height: 32px;\n",
              "    padding: 0 0 0 0;\n",
              "    width: 32px;\n",
              "  }\n",
              "\n",
              "  .colab-df-quickchart:hover {\n",
              "    background-color: #E2EBFA;\n",
              "    box-shadow: 0px 1px 2px rgba(60, 64, 67, 0.3), 0px 1px 3px 1px rgba(60, 64, 67, 0.15);\n",
              "    fill: #174EA6;\n",
              "  }\n",
              "\n",
              "  [theme=dark] .colab-df-quickchart {\n",
              "    background-color: #3B4455;\n",
              "    fill: #D2E3FC;\n",
              "  }\n",
              "\n",
              "  [theme=dark] .colab-df-quickchart:hover {\n",
              "    background-color: #434B5C;\n",
              "    box-shadow: 0px 1px 3px 1px rgba(0, 0, 0, 0.15);\n",
              "    filter: drop-shadow(0px 1px 2px rgba(0, 0, 0, 0.3));\n",
              "    fill: #FFFFFF;\n",
              "  }\n",
              "</style>\n",
              "\n",
              "    <script>\n",
              "      async function quickchart(key) {\n",
              "        const containerElement = document.querySelector('#' + key);\n",
              "        const charts = await google.colab.kernel.invokeFunction(\n",
              "            'suggestCharts', [key], {});\n",
              "      }\n",
              "    </script>\n",
              "\n",
              "      <script>\n",
              "\n",
              "function displayQuickchartButton(domScope) {\n",
              "  let quickchartButtonEl =\n",
              "    domScope.querySelector('#df-0db22fe3-2b11-4d9a-894f-7802e617da01 button.colab-df-quickchart');\n",
              "  quickchartButtonEl.style.display =\n",
              "    google.colab.kernel.accessAllowed ? 'block' : 'none';\n",
              "}\n",
              "\n",
              "        displayQuickchartButton(document);\n",
              "      </script>\n",
              "      <style>\n",
              "    .colab-df-container {\n",
              "      display:flex;\n",
              "      flex-wrap:wrap;\n",
              "      gap: 12px;\n",
              "    }\n",
              "\n",
              "    .colab-df-convert {\n",
              "      background-color: #E8F0FE;\n",
              "      border: none;\n",
              "      border-radius: 50%;\n",
              "      cursor: pointer;\n",
              "      display: none;\n",
              "      fill: #1967D2;\n",
              "      height: 32px;\n",
              "      padding: 0 0 0 0;\n",
              "      width: 32px;\n",
              "    }\n",
              "\n",
              "    .colab-df-convert:hover {\n",
              "      background-color: #E2EBFA;\n",
              "      box-shadow: 0px 1px 2px rgba(60, 64, 67, 0.3), 0px 1px 3px 1px rgba(60, 64, 67, 0.15);\n",
              "      fill: #174EA6;\n",
              "    }\n",
              "\n",
              "    [theme=dark] .colab-df-convert {\n",
              "      background-color: #3B4455;\n",
              "      fill: #D2E3FC;\n",
              "    }\n",
              "\n",
              "    [theme=dark] .colab-df-convert:hover {\n",
              "      background-color: #434B5C;\n",
              "      box-shadow: 0px 1px 3px 1px rgba(0, 0, 0, 0.15);\n",
              "      filter: drop-shadow(0px 1px 2px rgba(0, 0, 0, 0.3));\n",
              "      fill: #FFFFFF;\n",
              "    }\n",
              "  </style>\n",
              "\n",
              "      <script>\n",
              "        const buttonEl =\n",
              "          document.querySelector('#df-54a14b0e-ee55-4828-8257-5efd0f98eb65 button.colab-df-convert');\n",
              "        buttonEl.style.display =\n",
              "          google.colab.kernel.accessAllowed ? 'block' : 'none';\n",
              "\n",
              "        async function convertToInteractive(key) {\n",
              "          const element = document.querySelector('#df-54a14b0e-ee55-4828-8257-5efd0f98eb65');\n",
              "          const dataTable =\n",
              "            await google.colab.kernel.invokeFunction('convertToInteractive',\n",
              "                                                     [key], {});\n",
              "          if (!dataTable) return;\n",
              "\n",
              "          const docLinkHtml = 'Like what you see? Visit the ' +\n",
              "            '<a target=\"_blank\" href=https://colab.research.google.com/notebooks/data_table.ipynb>data table notebook</a>'\n",
              "            + ' to learn more about interactive tables.';\n",
              "          element.innerHTML = '';\n",
              "          dataTable['output_type'] = 'display_data';\n",
              "          await google.colab.output.renderOutput(dataTable, element);\n",
              "          const docLink = document.createElement('div');\n",
              "          docLink.innerHTML = docLinkHtml;\n",
              "          element.appendChild(docLink);\n",
              "        }\n",
              "      </script>\n",
              "    </div>\n",
              "  </div>\n"
            ]
          },
          "metadata": {},
          "execution_count": 19
        }
      ]
    },
    {
      "cell_type": "markdown",
      "source": [
        "**Preparing Dataset**"
      ],
      "metadata": {
        "id": "Xqpajy0LEG6g"
      }
    },
    {
      "cell_type": "code",
      "source": [
        "X = iris_data.loc[:, iris_data.columns != 'Species']\n",
        "y = iris_data.loc[:, ['Species']]"
      ],
      "metadata": {
        "id": "BAI6f24zEKvC"
      },
      "execution_count": 20,
      "outputs": []
    },
    {
      "cell_type": "code",
      "source": [
        "y_enc = LabelEncoder().fit_transform(y)\n",
        "# Converting the label into a matrix form\n",
        "y_label = tf.keras.utils.to_categorical(y_enc)"
      ],
      "metadata": {
        "colab": {
          "base_uri": "https://localhost:8080/"
        },
        "id": "Z3PQDghsEjZc",
        "outputId": "c1c15b0e-0bc8-4b7c-8d00-4715db5b91c4"
      },
      "execution_count": 21,
      "outputs": [
        {
          "output_type": "stream",
          "name": "stderr",
          "text": [
            "/usr/local/lib/python3.10/dist-packages/sklearn/preprocessing/_label.py:116: DataConversionWarning: A column-vector y was passed when a 1d array was expected. Please change the shape of y to (n_samples, ), for example using ravel().\n",
            "  y = column_or_1d(y, warn=True)\n"
          ]
        }
      ]
    },
    {
      "cell_type": "code",
      "source": [
        "# X_train_full, X_test, y_train_full, y_test = train_test_split(X, y_label, test_size=0.15)\n",
        "\n",
        "# Validation set\n",
        "# X_train, X_valid, y_train, y_valid = train_test_split(X_train_full, y_train_full)\n",
        "\n",
        "X_train, X_test, y_train, y_test = train_test_split(X, y_label, test_size=0.3)"
      ],
      "metadata": {
        "id": "J0S9UJflEnk0"
      },
      "execution_count": 22,
      "outputs": []
    },
    {
      "cell_type": "code",
      "source": [
        "print(f\"Train shape : {X_train.shape}, Y Train : {y_train.shape}\")\n",
        "print(X_train.shape[1:])"
      ],
      "metadata": {
        "colab": {
          "base_uri": "https://localhost:8080/"
        },
        "id": "Fa5-oXMFEp7G",
        "outputId": "7e9fbe28-d6fc-4d20-82bd-268d86b3d524"
      },
      "execution_count": 23,
      "outputs": [
        {
          "output_type": "stream",
          "name": "stdout",
          "text": [
            "Train shape : (105, 5), Y Train : (105, 3)\n",
            "(5,)\n"
          ]
        }
      ]
    },
    {
      "cell_type": "code",
      "source": [
        "def get_model():\n",
        "    model = Sequential([\n",
        "        keras.layers.Input(shape=X_train.shape[1:]),\n",
        "        keras.layers.Dense(500, activation='relu'),\n",
        "        keras.layers.Dense(200, activation='relu',),\n",
        "        keras.layers.Dense(3, activation='softmax')\n",
        "    ])\n",
        "\n",
        "    return model"
      ],
      "metadata": {
        "id": "a6M3ez65Ethi"
      },
      "execution_count": 24,
      "outputs": []
    },
    {
      "cell_type": "code",
      "source": [
        "model = get_model()\n",
        "\n",
        "# Compile the model\n",
        "model.compile(optimizer='adam',\n",
        "              loss=keras.losses.CategoricalCrossentropy(),\n",
        "             metrics=['accuracy'])"
      ],
      "metadata": {
        "id": "SAzxfVs4EwYs"
      },
      "execution_count": 25,
      "outputs": []
    },
    {
      "cell_type": "code",
      "source": [
        "model.summary()"
      ],
      "metadata": {
        "colab": {
          "base_uri": "https://localhost:8080/"
        },
        "id": "GIlr-ydbEzca",
        "outputId": "40c254b7-17ea-4c07-e7ef-da3a8e955ee8"
      },
      "execution_count": 26,
      "outputs": [
        {
          "output_type": "stream",
          "name": "stdout",
          "text": [
            "Model: \"sequential_1\"\n",
            "_________________________________________________________________\n",
            " Layer (type)                Output Shape              Param #   \n",
            "=================================================================\n",
            " dense_3 (Dense)             (None, 500)               3000      \n",
            "                                                                 \n",
            " dense_4 (Dense)             (None, 200)               100200    \n",
            "                                                                 \n",
            " dense_5 (Dense)             (None, 3)                 603       \n",
            "                                                                 \n",
            "=================================================================\n",
            "Total params: 103,803\n",
            "Trainable params: 103,803\n",
            "Non-trainable params: 0\n",
            "_________________________________________________________________\n"
          ]
        }
      ]
    },
    {
      "cell_type": "code",
      "source": [
        "history = model.fit(X_train, y_train, epochs=30, validation_data=(X_test, y_test), verbose=1)"
      ],
      "metadata": {
        "colab": {
          "base_uri": "https://localhost:8080/"
        },
        "id": "pW_jzPvHE4_n",
        "outputId": "c1ffb3b2-2565-4b99-9888-a138c8f3a2c1"
      },
      "execution_count": 27,
      "outputs": [
        {
          "output_type": "stream",
          "name": "stdout",
          "text": [
            "Epoch 1/30\n",
            "4/4 [==============================] - 2s 358ms/step - loss: 3.5575 - accuracy: 0.3429 - val_loss: 1.6985 - val_accuracy: 0.4222\n",
            "Epoch 2/30\n",
            "4/4 [==============================] - 0s 54ms/step - loss: 2.2634 - accuracy: 0.4095 - val_loss: 2.3396 - val_accuracy: 0.3778\n",
            "Epoch 3/30\n",
            "4/4 [==============================] - 0s 51ms/step - loss: 1.5697 - accuracy: 0.4381 - val_loss: 0.8488 - val_accuracy: 0.6000\n",
            "Epoch 4/30\n",
            "4/4 [==============================] - 0s 40ms/step - loss: 0.9270 - accuracy: 0.5810 - val_loss: 0.7228 - val_accuracy: 0.5333\n",
            "Epoch 5/30\n",
            "4/4 [==============================] - 0s 58ms/step - loss: 0.7984 - accuracy: 0.5714 - val_loss: 0.6184 - val_accuracy: 0.7111\n",
            "Epoch 6/30\n",
            "4/4 [==============================] - 0s 80ms/step - loss: 0.6203 - accuracy: 0.7143 - val_loss: 0.5085 - val_accuracy: 0.7333\n",
            "Epoch 7/30\n",
            "4/4 [==============================] - 0s 34ms/step - loss: 0.5744 - accuracy: 0.6571 - val_loss: 0.5071 - val_accuracy: 0.7778\n",
            "Epoch 8/30\n",
            "4/4 [==============================] - 0s 55ms/step - loss: 0.4685 - accuracy: 0.8000 - val_loss: 0.4693 - val_accuracy: 0.7333\n",
            "Epoch 9/30\n",
            "4/4 [==============================] - 0s 60ms/step - loss: 0.4496 - accuracy: 0.7810 - val_loss: 0.4660 - val_accuracy: 0.7556\n",
            "Epoch 10/30\n",
            "4/4 [==============================] - 0s 78ms/step - loss: 0.4036 - accuracy: 0.8476 - val_loss: 0.4506 - val_accuracy: 0.8222\n",
            "Epoch 11/30\n",
            "4/4 [==============================] - 0s 67ms/step - loss: 0.4652 - accuracy: 0.8000 - val_loss: 0.4261 - val_accuracy: 0.8000\n",
            "Epoch 12/30\n",
            "4/4 [==============================] - 0s 48ms/step - loss: 0.3809 - accuracy: 0.8381 - val_loss: 0.3895 - val_accuracy: 0.7778\n",
            "Epoch 13/30\n",
            "4/4 [==============================] - 0s 61ms/step - loss: 0.3825 - accuracy: 0.8381 - val_loss: 0.3503 - val_accuracy: 0.8222\n",
            "Epoch 14/30\n",
            "4/4 [==============================] - 0s 48ms/step - loss: 0.3508 - accuracy: 0.8476 - val_loss: 0.3776 - val_accuracy: 0.8667\n",
            "Epoch 15/30\n",
            "4/4 [==============================] - 0s 39ms/step - loss: 0.3882 - accuracy: 0.8476 - val_loss: 0.3503 - val_accuracy: 0.8222\n",
            "Epoch 16/30\n",
            "4/4 [==============================] - 0s 69ms/step - loss: 0.3712 - accuracy: 0.8476 - val_loss: 0.3373 - val_accuracy: 0.8444\n",
            "Epoch 17/30\n",
            "4/4 [==============================] - 0s 59ms/step - loss: 0.3570 - accuracy: 0.8381 - val_loss: 0.3403 - val_accuracy: 0.8222\n",
            "Epoch 18/30\n",
            "4/4 [==============================] - 0s 65ms/step - loss: 0.3201 - accuracy: 0.8381 - val_loss: 0.3508 - val_accuracy: 0.8667\n",
            "Epoch 19/30\n",
            "4/4 [==============================] - 0s 72ms/step - loss: 0.3777 - accuracy: 0.8286 - val_loss: 0.3087 - val_accuracy: 0.8444\n",
            "Epoch 20/30\n",
            "4/4 [==============================] - 0s 55ms/step - loss: 0.3484 - accuracy: 0.8667 - val_loss: 0.4154 - val_accuracy: 0.8000\n",
            "Epoch 21/30\n",
            "4/4 [==============================] - 0s 53ms/step - loss: 0.4578 - accuracy: 0.8000 - val_loss: 0.6471 - val_accuracy: 0.8000\n",
            "Epoch 22/30\n",
            "4/4 [==============================] - 0s 42ms/step - loss: 0.8018 - accuracy: 0.7143 - val_loss: 0.6023 - val_accuracy: 0.8222\n",
            "Epoch 23/30\n",
            "4/4 [==============================] - 0s 31ms/step - loss: 0.6781 - accuracy: 0.7810 - val_loss: 0.6286 - val_accuracy: 0.8000\n",
            "Epoch 24/30\n",
            "4/4 [==============================] - 0s 43ms/step - loss: 0.6293 - accuracy: 0.7429 - val_loss: 0.4207 - val_accuracy: 0.8222\n",
            "Epoch 25/30\n",
            "4/4 [==============================] - 0s 35ms/step - loss: 0.3024 - accuracy: 0.8190 - val_loss: 0.3597 - val_accuracy: 0.8667\n",
            "Epoch 26/30\n",
            "4/4 [==============================] - 0s 41ms/step - loss: 0.2820 - accuracy: 0.9048 - val_loss: 0.3885 - val_accuracy: 0.8444\n",
            "Epoch 27/30\n",
            "4/4 [==============================] - 0s 32ms/step - loss: 0.2924 - accuracy: 0.8762 - val_loss: 0.2853 - val_accuracy: 0.8889\n",
            "Epoch 28/30\n",
            "4/4 [==============================] - 0s 34ms/step - loss: 0.2463 - accuracy: 0.9048 - val_loss: 0.2996 - val_accuracy: 0.8444\n",
            "Epoch 29/30\n",
            "4/4 [==============================] - 0s 31ms/step - loss: 0.2221 - accuracy: 0.9048 - val_loss: 0.2874 - val_accuracy: 0.8667\n",
            "Epoch 30/30\n",
            "4/4 [==============================] - 0s 28ms/step - loss: 0.2210 - accuracy: 0.9238 - val_loss: 0.3359 - val_accuracy: 0.8667\n"
          ]
        }
      ]
    },
    {
      "cell_type": "code",
      "source": [
        "model.evaluate(X_test, y_test)"
      ],
      "metadata": {
        "colab": {
          "base_uri": "https://localhost:8080/"
        },
        "id": "ypyMCP6EE-DI",
        "outputId": "33bdbad0-61f2-4733-aa07-2afdd66887fd"
      },
      "execution_count": 28,
      "outputs": [
        {
          "output_type": "stream",
          "name": "stdout",
          "text": [
            "2/2 [==============================] - 0s 14ms/step - loss: 0.3359 - accuracy: 0.8667\n"
          ]
        },
        {
          "output_type": "execute_result",
          "data": {
            "text/plain": [
              "[0.3358778953552246, 0.8666666746139526]"
            ]
          },
          "metadata": {},
          "execution_count": 28
        }
      ]
    },
    {
      "cell_type": "markdown",
      "source": [
        "**Performance Monitor**"
      ],
      "metadata": {
        "id": "x-E_TAzzFDnU"
      }
    },
    {
      "cell_type": "code",
      "source": [
        "pd.DataFrame(history.history).plot(figsize=(10,6))\n",
        "plt.grid(True)\n",
        "plt.gca().set_ylim(0, 1)\n",
        "plt.show()"
      ],
      "metadata": {
        "colab": {
          "base_uri": "https://localhost:8080/",
          "height": 425
        },
        "id": "b-6Ha4ETFG6d",
        "outputId": "7b00412f-583f-4a90-814e-c5b0ffd67bf2"
      },
      "execution_count": 29,
      "outputs": [
        {
          "output_type": "display_data",
          "data": {
            "text/plain": [
              "<Figure size 1000x600 with 1 Axes>"
            ],
            "image/png": "[encoded data removed]"
          },
          "metadata": {}
        }
      ]
    }
  ]
}
