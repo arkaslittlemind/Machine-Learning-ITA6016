{
  "cells": [
    {
      "attachments": {},
      "cell_type": "markdown",
      "metadata": {
        "id": "LdQMcPC92_Xg"
      },
      "source": [
        "## Imports"
      ]
    },
    {
      "cell_type": "code",
      "execution_count": 2,
      "metadata": {
        "id": "fu1oAi5LzyTY"
      },
      "outputs": [
        {
          "ename": "ModuleNotFoundError",
          "evalue": "No module named 'request'",
          "output_type": "error",
          "traceback": [
            "\u001b[1;31m---------------------------------------------------------------------------\u001b[0m",
            "\u001b[1;31mModuleNotFoundError\u001b[0m                       Traceback (most recent call last)",
            "Cell \u001b[1;32mIn[2], line 1\u001b[0m\n\u001b[1;32m----> 1\u001b[0m \u001b[39mimport\u001b[39;00m \u001b[39mpanda\u001b[39;00m \u001b[39mas\u001b[39;00m \u001b[39mpd\u001b[39;00m\n\u001b[0;32m      2\u001b[0m \u001b[39mimport\u001b[39;00m \u001b[39mnumpy\u001b[39;00m \u001b[39mas\u001b[39;00m \u001b[39mnp\u001b[39;00m\n\u001b[0;32m      3\u001b[0m \u001b[39mimport\u001b[39;00m \u001b[39mpylab\u001b[39;00m \u001b[39mas\u001b[39;00m \u001b[39mpl\u001b[39;00m\n",
            "File \u001b[1;32m~\\AppData\\Local\\Packages\\PythonSoftwareFoundation.Python.3.9_qbz5n2kfra8p0\\LocalCache\\local-packages\\Python39\\site-packages\\panda\\__init__.py:1\u001b[0m\n\u001b[1;32m----> 1\u001b[0m \u001b[39mfrom\u001b[39;00m \u001b[39mrequest\u001b[39;00m \u001b[39mimport\u001b[39;00m PandaRequest\n\u001b[0;32m      2\u001b[0m \u001b[39mfrom\u001b[39;00m \u001b[39mmodels\u001b[39;00m \u001b[39mimport\u001b[39;00m Video, Cloud, Encoding, Profile, Notifications, PandaDict\n\u001b[0;32m      3\u001b[0m \u001b[39mfrom\u001b[39;00m \u001b[39mmodels\u001b[39;00m \u001b[39mimport\u001b[39;00m GroupRetriever, SingleRetriever\n",
            "\u001b[1;31mModuleNotFoundError\u001b[0m: No module named 'request'"
          ]
        }
      ],
      "source": [
        "import pandas as pd\n",
        "import numpy as np\n",
        "import pylab as pl\n",
        "import matplotlib.pyplot as plt\n",
        "from sklearn.metrics import r2_score\n"
      ]
    },
    {
      "attachments": {},
      "cell_type": "markdown",
      "metadata": {
        "id": "86F1PE9T3KGf"
      },
      "source": [
        "## Dataset"
      ]
    },
    {
      "cell_type": "code",
      "execution_count": null,
      "metadata": {
        "id": "XTv2UJjM17tq"
      },
      "outputs": [],
      "source": [
        "df = pd.read_csv(\"/content/auto-mpg.csv\")"
      ]
    },
    {
      "attachments": {},
      "cell_type": "markdown",
      "metadata": {
        "id": "Ti52jebe3CQ5"
      },
      "source": []
    },
    {
      "cell_type": "code",
      "execution_count": null,
      "metadata": {
        "colab": {
          "base_uri": "https://localhost:8080/",
          "height": 206
        },
        "id": "5lVvzfj12Ea_",
        "outputId": "df40c82d-f3ec-4abf-aeea-a6043d7fcecd"
      },
      "outputs": [],
      "source": [
        "df.head()"
      ]
    },
    {
      "attachments": {},
      "cell_type": "markdown",
      "metadata": {
        "id": "y33ySmig3QPu"
      },
      "source": [
        "### Droping Column"
      ]
    },
    {
      "cell_type": "code",
      "execution_count": null,
      "metadata": {
        "id": "UfgqFhND3ZHt"
      },
      "outputs": [],
      "source": [
        "column_name = 'car name'\n",
        "df = df.drop(column_name, axis=1)"
      ]
    },
    {
      "cell_type": "code",
      "execution_count": null,
      "metadata": {
        "colab": {
          "base_uri": "https://localhost:8080/",
          "height": 206
        },
        "id": "hLbhAbLK3g5y",
        "outputId": "88b9594b-4671-4002-c2bb-842f3fea5983"
      },
      "outputs": [],
      "source": [
        "df.head()"
      ]
    },
    {
      "cell_type": "code",
      "execution_count": null,
      "metadata": {
        "id": "xUpoGmfw3iys"
      },
      "outputs": [],
      "source": [
        "cdf = df[['cylinders','displacement','horsepower','weight','acceleration','model year','origin','mpg']]"
      ]
    },
    {
      "cell_type": "code",
      "execution_count": null,
      "metadata": {
        "colab": {
          "base_uri": "https://localhost:8080/",
          "height": 206
        },
        "id": "5Q7oaQY74Oe5",
        "outputId": "6a8c5b24-7e4a-4e70-a441-c688aa80dafd"
      },
      "outputs": [],
      "source": [
        "cdf.head()"
      ]
    },
    {
      "cell_type": "code",
      "execution_count": null,
      "metadata": {
        "colab": {
          "base_uri": "https://localhost:8080/",
          "height": 452
        },
        "id": "gqPu-NVA4WfW",
        "outputId": "32e6d095-58df-4875-b0cf-f744f8173b8f"
      },
      "outputs": [],
      "source": [
        "viz = cdf[['cylinders','displacement','horsepower','weight','acceleration','model year','origin','mpg']]\n",
        "viz.hist()\n",
        "plt.show()"
      ]
    },
    {
      "cell_type": "code",
      "execution_count": null,
      "metadata": {
        "colab": {
          "base_uri": "https://localhost:8080/"
        },
        "id": "EgF-Fcge4o68",
        "outputId": "c8b7eede-ffac-4464-d414-840c007e76bf"
      },
      "outputs": [],
      "source": [
        "msk = np.random.rand(len(df)) < 0.8\n",
        "train = cdf[msk]\n",
        "test = cdf[~msk]\n",
        "print(train)\n",
        "print(test)"
      ]
    },
    {
      "cell_type": "code",
      "execution_count": null,
      "metadata": {
        "id": "jEwHWR3K5XBI"
      },
      "outputs": [],
      "source": [
        "# # Calculate the correlation matrix\n",
        "# import seaborn as sns\n",
        "# correlation_matrix = cdf.corr()\n",
        "\n",
        "# # Create a heatmap using seaborn\n",
        "# plt.figure(figsize=(10, 8))\n",
        "# sns.heatmap(correlation_matrix, annot=True, cmap='coolwarm')\n",
        "# plt.title('Correlation Heatmap')\n",
        "# plt.show()"
      ]
    },
    {
      "cell_type": "code",
      "execution_count": null,
      "metadata": {
        "colab": {
          "base_uri": "https://localhost:8080/"
        },
        "id": "D-QcIj-S57CJ",
        "outputId": "167960cb-28f0-42f2-bfe2-272d613f52e8"
      },
      "outputs": [],
      "source": [
        "from sklearn import linear_model\n",
        "regr_m = linear_model.LinearRegression()\n",
        "train_x = np.asanyarray(train[['cylinders', 'displacement','weight']])\n",
        "train_y = np.asanyarray(train[['mpg']])\n",
        "regr_m.fit (train_x, train_y)\n",
        "# The coefficients\n",
        "print ('Coefficients: ', regr_m.coef_)\n",
        "print ('Intercept: ',regr_m.intercept_)"
      ]
    },
    {
      "cell_type": "code",
      "execution_count": null,
      "metadata": {
        "colab": {
          "base_uri": "https://localhost:8080/"
        },
        "id": "X4vCn1tq6bTY",
        "outputId": "b5c0f382-e1fc-4502-e467-177166247eb1"
      },
      "outputs": [],
      "source": [
        "test_x = np.asanyarray(test[['cylinders', 'displacement','weight']])\n",
        "test_y = np.asanyarray(test[['mpg']])\n",
        "test_y_ = regr_m.predict(test_x)\n",
        "print(\"Mean absolute error: %.2f\" % np.mean(np.absolute(test_y_ - test_y)))\n",
        "print(\"Residual sum of squares (MSE): %.2f\" % np.mean((test_y_ - test_y) ** 2))\n",
        "print(\"R2-score: %.2f\" % r2_score(test_y_ , test_y) )"
      ]
    }
  ],
  "metadata": {
    "colab": {
      "provenance": []
    },
    "kernelspec": {
      "display_name": "Python 3",
      "name": "python3"
    },
    "language_info": {
      "codemirror_mode": {
        "name": "ipython",
        "version": 3
      },
      "file_extension": ".py",
      "mimetype": "text/x-python",
      "name": "python",
      "nbconvert_exporter": "python",
      "pygments_lexer": "ipython3",
      "version": "3.9.13"
    }
  },
  "nbformat": 4,
  "nbformat_minor": 0
}
